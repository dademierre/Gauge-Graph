{
 "cells": [
  {
   "cell_type": "code",
   "execution_count": 14,
   "id": "931b2e22-b323-4230-8b60-ce7a76ed1dd2",
   "metadata": {},
   "outputs": [
    {
     "data": {
      "text/html": [
       "\n",
       "        <iframe\n",
       "            width=\"100%\"\n",
       "            height=\"650\"\n",
       "            src=\"http://127.0.0.1:8050/\"\n",
       "            frameborder=\"0\"\n",
       "            allowfullscreen\n",
       "            \n",
       "        ></iframe>\n",
       "        "
      ],
      "text/plain": [
       "<IPython.lib.display.IFrame at 0x177b87d3f90>"
      ]
     },
     "metadata": {},
     "output_type": "display_data"
    }
   ],
   "source": [
    "import plotly.graph_objects as go\n",
    "from dash import Dash, dcc, html, Input, Output\n",
    "import gspread\n",
    "from oauth2client.service_account import ServiceAccountCredentials\n",
    "\n",
    "# Set up Google Sheets API\n",
    "scope = [\"https://spreadsheets.google.com/feeds\", \"https://www.googleapis.com/auth/drive\"]\n",
    "creds = ServiceAccountCredentials.from_json_keyfile_name(r'C:\\Users\\danie\\credentials.json', scope)\n",
    "client = gspread.authorize(creds)\n",
    "\n",
    "# Access the Google Sheet\n",
    "sheet = client.open(\"Dynamic Python Graph\").sheet1\n",
    "\n",
    "# Initialize the Dash app\n",
    "app = Dash(__name__)\n",
    "\n",
    "# Fetch initial data to set up the slider marks\n",
    "data = sheet.get_all_values()\n",
    "header = data.pop(0)  # Separate header from data\n",
    "months = [row[0] for row in data]\n",
    "\n",
    "app.layout = html.Div([\n",
    "    dcc.Slider(\n",
    "        id='month-slider',\n",
    "        min=0,\n",
    "        max=len(months) - 1,\n",
    "        value=0,\n",
    "        marks={i: month for i, month in enumerate(months)},\n",
    "        step=None\n",
    "    ),\n",
    "    dcc.Graph(id='speedometer')\n",
    "])\n",
    "\n",
    "@app.callback(\n",
    "    Output('speedometer', 'figure'),\n",
    "    Input('month-slider', 'value')\n",
    ")\n",
    "def update_speedometer(selected_month_index):\n",
    "    # Fetch the latest data\n",
    "    data = sheet.get_all_values()\n",
    "    header = data.pop(0)  # Separate header from data\n",
    "\n",
    "    # Convert data into a dictionary\n",
    "    data_dict = {row[0]: float(row[1]) for row in data}\n",
    "    months = list(data_dict.keys())\n",
    "\n",
    "    selected_month = months[selected_month_index]\n",
    "    value = data_dict[selected_month]\n",
    "\n",
    "    fig = go.Figure(go.Indicator(\n",
    "        mode=\"gauge+number\",\n",
    "        value=value,\n",
    "        title={'text': \"Speed\"},\n",
    "        gauge={\n",
    "            'axis': {'range': [0, 200]},\n",
    "            'bar': {'color': \"darkblue\"},\n",
    "            'steps': [\n",
    "                {'range': [0, 50], 'color': \"green\"},\n",
    "                {'range': [50, 100], 'color': \"yellow\"},\n",
    "                {'range': [100, 200], 'color': \"red\"}\n",
    "            ],\n",
    "        }\n",
    "    ))\n",
    "\n",
    "    return fig\n",
    "\n",
    "if __name__ == '__main__':\n",
    "    app.run_server(debug=True)\n"
   ]
  },
  {
   "cell_type": "code",
   "execution_count": null,
   "id": "55c10d90-25a9-4006-bb26-6c19b50de26d",
   "metadata": {},
   "outputs": [],
   "source": []
  }
 ],
 "metadata": {
  "kernelspec": {
   "display_name": "Python 3 (ipykernel)",
   "language": "python",
   "name": "python3"
  },
  "language_info": {
   "codemirror_mode": {
    "name": "ipython",
    "version": 3
   },
   "file_extension": ".py",
   "mimetype": "text/x-python",
   "name": "python",
   "nbconvert_exporter": "python",
   "pygments_lexer": "ipython3",
   "version": "3.11.7"
  }
 },
 "nbformat": 4,
 "nbformat_minor": 5
}
